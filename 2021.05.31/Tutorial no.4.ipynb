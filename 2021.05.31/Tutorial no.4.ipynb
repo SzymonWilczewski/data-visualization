{
 "metadata": {
  "language_info": {
   "codemirror_mode": {
    "name": "ipython",
    "version": 3
   },
   "file_extension": ".py",
   "mimetype": "text/x-python",
   "name": "python",
   "nbconvert_exporter": "python",
   "pygments_lexer": "ipython3",
   "version": "3.9.2"
  },
  "orig_nbformat": 2,
  "kernelspec": {
   "name": "python392jvsc74a57bd02c2578661e11ccf73cb65a6ea4a3cecac0f45c1e80ce8161fdccb53c836f9189",
   "display_name": "Python 3.9.2 64-bit"
  }
 },
 "nbformat": 4,
 "nbformat_minor": 2,
 "cells": [
  {
   "cell_type": "code",
   "execution_count": 1,
   "metadata": {},
   "outputs": [],
   "source": [
    "from geoplotlib import dot, show, tiles_provider, graph, markers\n",
    "from geoplotlib.utils import read_csv"
   ]
  },
  {
   "cell_type": "code",
   "execution_count": 2,
   "metadata": {},
   "outputs": [],
   "source": [
    "# Exercise 1\n",
    "\n",
    "data = read_csv(\"cities.csv\")\n",
    "dot(data, color ='red', point_size=5)\n",
    "show()\n",
    "\n",
    "data = read_csv(\"cities_2.csv\")\n",
    "tiles_provider(\"toner-lite\")\n",
    "dot(data, color ='red', point_size=5, f_tooltip=lambda d: d['name'])\n",
    "show()"
   ]
  },
  {
   "cell_type": "code",
   "execution_count": 3,
   "metadata": {},
   "outputs": [],
   "source": [
    "# Exercise 2\n",
    "\n",
    "data = read_csv(\"cities_graph.csv\")\n",
    "graph(data, src_lat='lat_departure', src_lon='lon_departure', dest_lat='lat_arrival', dest_lon='lon_arrival', color='Blues', alpha=200, linewidth=3)\n",
    "show()"
   ]
  },
  {
   "cell_type": "code",
   "execution_count": 4,
   "metadata": {},
   "outputs": [],
   "source": [
    "# Exercise 3\n",
    "\n",
    "data = read_csv(\"cities_2.csv\")\n",
    "markers(data, marker='orange_icon.png', f_tooltip=lambda r: r['name'], marker_preferred_size=32)\n",
    "data = read_csv(\"cities.csv\")\n",
    "markers(data, marker='blue_icon.png', f_tooltip=lambda r: r['name'], marker_preferred_size=32)\n",
    "show()"
   ]
  }
 ]
}